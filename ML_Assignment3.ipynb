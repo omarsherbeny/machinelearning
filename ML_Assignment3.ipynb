{
 "cells": [
  {
   "cell_type": "code",
   "execution_count": 276,
   "metadata": {
    "scrolled": true
   },
   "outputs": [],
   "source": [
    "import pandas as pd \n",
    "import numpy as np\n",
    "import matplotlib as plt\n",
    "from matplotlib import pyplot\n",
    "from mpl_toolkits.mplot3d import Axes3D \n",
    "compData=pd.read_csv(\"house_prices_data_training_data.csv\")\n"
   ]
  },
  {
   "cell_type": "code",
   "execution_count": 277,
   "metadata": {},
   "outputs": [],
   "source": [
    "data1 = compData.dropna()\n",
    "data = data1.values"
   ]
  },
  {
   "cell_type": "code",
   "execution_count": 278,
   "metadata": {},
   "outputs": [
    {
     "data": {
      "text/plain": [
       "17999"
      ]
     },
     "execution_count": 278,
     "metadata": {},
     "output_type": "execute_result"
    }
   ],
   "source": [
    "X = data[:,3:17]\n",
    "X.shape[0]"
   ]
  },
  {
   "cell_type": "code",
   "execution_count": 279,
   "metadata": {},
   "outputs": [],
   "source": [
    "def  featureNormalize(X):\n",
    "    X_norm = X\n",
    "    mu = np.zeros(X.shape[1])\n",
    "    sigma = np.zeros(X.shape[1])\n",
    "    \n",
    "    for i in range(0,X.shape[1]):\n",
    "        mu[i]=np.mean(X[:,i])\n",
    "        sigma[i]=np.std(X[:,i])\n",
    "    \n",
    "    X_norm=(X_norm-mu)\n",
    "    X_norm = X_norm/sigma\n",
    "\n",
    "    \n",
    "    return X_norm"
   ]
  },
  {
   "cell_type": "code",
   "execution_count": 280,
   "metadata": {},
   "outputs": [
    {
     "data": {
      "text/plain": [
       "(17999, 14)"
      ]
     },
     "execution_count": 280,
     "metadata": {},
     "output_type": "execute_result"
    }
   ],
   "source": [
    "X1= featureNormalize(X)\n",
    "X1.shape"
   ]
  },
  {
   "cell_type": "code",
   "execution_count": 281,
   "metadata": {},
   "outputs": [],
   "source": [
    "def plotData(x,y,z,l):\n",
    "    fig = pyplot.figure()\n",
    "    pyplot.plot(y, x, 'ro', ms=10, mec='k')\n",
    "    pyplot.plot(z, x, 'bo', ms=10, mec='k')\n",
    "    pyplot.plot(l, x, 'go', ms=10, mec='k')"
   ]
  },
  {
   "cell_type": "code",
   "execution_count": 282,
   "metadata": {},
   "outputs": [],
   "source": [
    "y = np.array(data1[\"price\"])\n"
   ]
  },
  {
   "cell_type": "code",
   "execution_count": 283,
   "metadata": {},
   "outputs": [
    {
     "data": {
      "text/plain": [
       "(17999, 15)"
      ]
     },
     "execution_count": 283,
     "metadata": {},
     "output_type": "execute_result"
    }
   ],
   "source": [
    "t = np.ones((X1.shape[0],1))\n",
    "X = np.hstack((t,X1))\n",
    "X.shape"
   ]
  },
  {
   "cell_type": "code",
   "execution_count": 284,
   "metadata": {},
   "outputs": [],
   "source": [
    "def computeCostMulti(X, y, theta):\n",
    "   \n",
    "   \n",
    "    m = y.shape[0] # number of training examples\n",
    "    \n",
    "   \n",
    "    J = 0\n",
    "    \n",
    "\n",
    "    h=[]\n",
    "    \n",
    "    for i in range(0,m):\n",
    "        h.append(np.dot(np.transpose(theta),X[i]))\n",
    "        \n",
    "        \n",
    "        J=J+(h[i]-y[i])**2\n",
    "            \n",
    "    J=np.divide(J,2*m)\n",
    "    \n",
    "    return J"
   ]
  },
  {
   "cell_type": "code",
   "execution_count": 337,
   "metadata": {},
   "outputs": [],
   "source": [
    "def gradientDescentMulti(X, y, theta, alpha, num_iters):\n",
    "\n",
    "    lamda1 =np.array([0,0.01,0.02,0.03,0.04,0.08,0.16,0.32,0.64,1.28,2.56,5.12,10.24])\n",
    "    m = y.shape[0] # number of training examples\n",
    "    \n",
    "    theta = theta.copy()\n",
    "    th = []\n",
    "    J_history = []\n",
    "    \n",
    "    \n",
    "    for k in range(lamda1.shape[0]):\n",
    "        lamda = lamda1[k]\n",
    "        for i in range(num_iters):\n",
    "            alphabym=alpha/m\n",
    "            sumofh0x=np.dot(X,theta)\n",
    "            t1=(np.dot(X.T,sumofh0x-y))\n",
    "            theta=theta*(1-alpha*lamda/m)-((alpha/m)*t1)\n",
    "            J_history.append(computeCostMulti(X, y, theta))\n",
    "        th.append(theta)\n",
    "            \n",
    "\n",
    "    return th\n",
    "    \n",
    "\n"
   ]
  },
  {
   "cell_type": "code",
   "execution_count": 338,
   "metadata": {},
   "outputs": [
    {
     "name": "stdout",
     "output_type": "stream",
     "text": [
      "[array([532.8344308923023, 110.13519200881208, 190.4387188656474,\n",
      "       255.173498588842, 32.29818168886202, 102.11324789199314,\n",
      "       100.20093158051498, 146.76587428112128, 17.340705698754142,\n",
      "       241.04289577163746, 220.04053944513973, 118.21234698057376,\n",
      "       13.21183538351818, 49.90294250665111, -15.390246552135666],\n",
      "      dtype=object), array([1065.1362666363025, 219.6543066668385, 379.98904628920565,\n",
      "       509.3462962703706, 64.41089470978663, 203.67646709724687,\n",
      "       200.14155697693312, 293.07687972725296, 34.75722000558078,\n",
      "       481.19087406661976, 439.1742637214602, 236.0397660808363,\n",
      "       26.006094545208644, 99.67744648405498, -30.5787683621212],\n",
      "      dtype=object), array([1596.9060389965987, 328.56009018442046, 568.6549364918776,\n",
      "       762.5226569806335, 96.33898811742687, 304.69227705186756,\n",
      "       299.82270752434414, 438.9346159882894, 52.24893135709387,\n",
      "       720.4478057482379, 657.4051916016922, 353.48361990696617,\n",
      "       38.38507257318775, 149.32386142293404, -45.56673900684499],\n",
      "      dtype=object), array([2128.14427920715, 436.8552767137602, 756.4403261740657,\n",
      "       1014.706826026805, 128.08330717308507, 405.16328519397103,\n",
      "       399.24521144928417, 584.3406763977622, 69.81523139666591,\n",
      "       958.817544572225, 874.737323936218, 470.5452657653441,\n",
      "       50.35105364719651, 198.8425356785115, -60.35532634846132],\n",
      "      dtype=object), array([2658.8515179718024, 544.542588402079, 943.3491345930493,\n",
      "       1265.903030169325, 159.64469336159002, 505.0920870177078,\n",
      "       498.40989388248346, 729.296647999433, 87.45551495927435,\n",
      "       1196.3039272626254, 1091.1746437328613, 587.2260556845513,\n",
      "       61.906311088327485, 248.23381647479144, -74.94569256067267],\n",
      "      dtype=object), array([3189.0282806375276, 651.6247344589337, 1129.385261931813,\n",
      "       1516.1154754098409, 191.0239841191772, 604.4812652127143,\n",
      "       597.3175759676332, 873.8041102515473, 105.16917989707999,\n",
      "       1432.9107714193005, 1306.7211142593571, 703.5273353727403,\n",
      "       73.05310729856194, 297.49804945861183, -89.33899401994273],\n",
      "      dtype=object), array([3718.6750874750346, 758.1044112795872, 1314.552589493775,\n",
      "       1765.3483472255912, 222.22201287106398, 703.3333897826423,\n",
      "       695.9690749307506, 1017.8646351381442, 122.95562707118374,\n",
      "       1668.6418757363426, 1521.3806792554433, 819.4504443083387,\n",
      "       83.79369382720293, 346.6355787321165, -103.53638134432713],\n",
      "      dtype=object), array([4247.792445920959, 863.9843009334228, 1498.8549770611312,\n",
      "       2013.6058069933072, 253.23960858980524, 801.65101664664,\n",
      "       794.3652026463427, 1161.4797850824662, 140.81426007693898,\n",
      "       1903.5010166183376, 1735.1572598613702, 934.9967140614385,\n",
      "       94.13031125915539, 395.64674613654205, -117.53899920984414],\n",
      "      dtype=object), array([4776.380835934052, 969.2670682811884, 1682.2962578639579,\n",
      "       2260.8919851921924, 284.07759495202276, 899.4366849672531,\n",
      "       892.5067629252018, 1304.6511089955065, 158.7444847356476,\n",
      "       2137.4919417488254, 1948.054748773411, 1050.167465115067,\n",
      "       104.065188974033, 444.5318898992506, -131.34798598704967],\n",
      "      dtype=object), array([5304.440678371478, 1073.9553547045505, 1864.8802276487404,\n",
      "       2507.2109666549086, 314.7367885027967, 996.692911332056,\n",
      "       990.3945456478248, 1447.38013372204, 176.7457080113711,\n",
      "       2370.618356134843, 2160.0769975526737, 1164.9639999838673,\n",
      "       113.6005445815286, 493.29134170957104, -144.9644729318774],\n",
      "      dtype=object), array([5831.972267074364, 1178.0517646131627, 2046.6106211604701,\n",
      "       2752.5667588493416, 345.21799470458836, 1093.4221772267101,\n",
      "       1088.0293141617478, 1589.6683456607395, 194.81733569576988,\n",
      "       2602.883892093929, 2371.22778932494, 1279.3875884287963,\n",
      "       122.73858267919277, 541.9254204393703, -158.38958243040082],\n",
      "      dtype=object), array([6358.975623714901, 1281.558836617485, 2227.491061888459,\n",
      "       2996.963224099627, 375.5219994951116, 1189.6269022631284,\n",
      "       1185.4117783542592, 1731.5171514945318, 212.9587674640822,\n",
      "       2834.2920451138566, 2581.5107804387017, 1393.4394358694688,\n",
      "       131.48149219797747, 590.434418728418, -171.62442424374737],\n",
      "      dtype=object), array([6885.450188861812, 1384.4789822644284, 2407.524955226961,\n",
      "       3240.4039354572105, 405.64955134584807, 1285.3093872711036,\n",
      "       1282.5425373752355, 1872.9277946729937, 231.1693863424413,\n",
      "       3064.8460374478605, 2790.929376406421, 1507.1206162093022,\n",
      "       139.83144081573911, 638.818574452151, -184.6700875410544],\n",
      "      dtype=object)]\n"
     ]
    }
   ],
   "source": [
    "theta = np.zeros(X.shape[1])\n",
    "th = gradientDescentMulti(X,y,theta,0.0001,10)\n",
    "print(th)"
   ]
  },
  {
   "cell_type": "code",
   "execution_count": 339,
   "metadata": {},
   "outputs": [],
   "source": [
    "tData=pd.read_csv(\"house_data_complete.csv\")\n",
    "tdata1 = tData.dropna()\n",
    "ty = np.array(tdata1[\"price\"])\n",
    "tdata = tdata1.values\n",
    "a = tdata.shape[0]\n",
    "a1 = np.ceil(a/2).astype(int)\n",
    "CVX = tdata[0:a1,3:17]\n",
    "CVy = ty[0:a1]\n",
    "CVX1= featureNormalize(CVX)\n",
    "o = np.ones((a1,1))\n",
    "CVX = np.hstack((o,CVX))"
   ]
  },
  {
   "cell_type": "code",
   "execution_count": 357,
   "metadata": {},
   "outputs": [
    {
     "data": {
      "text/plain": [
       "13"
      ]
     },
     "execution_count": 357,
     "metadata": {},
     "output_type": "execute_result"
    }
   ],
   "source": [
    "len(th)"
   ]
  },
  {
   "cell_type": "code",
   "execution_count": 364,
   "metadata": {},
   "outputs": [],
   "source": [
    "def computeCostMultiCV(X, y, th):\n",
    "   \n",
    "   \n",
    "    m = y.shape[0] # number of training examples\n",
    "    \n",
    "   \n",
    "    J = 0\n",
    "    jmin = []\n",
    "\n",
    "\n",
    "    h=[]\n",
    "    k=0\n",
    "    for k in range(len(th)):\n",
    "        theta = th[k]\n",
    "        for i in range(0,m):\n",
    "            h.append(np.dot(np.transpose(theta),X[i]))        \n",
    "            J=J+(h[i]-y[i])**2\n",
    "            \n",
    "        J=np.divide(J,2*m)\n",
    "        jmin.append(J)\n",
    "    \n",
    "    l = np.argmin(jmin)\n",
    "    theta = th[l]\n",
    "    \n",
    "    return theta"
   ]
  },
  {
   "cell_type": "code",
   "execution_count": 365,
   "metadata": {},
   "outputs": [],
   "source": [
    "theta=computeCostMultiCV(CVX,CVy,th)"
   ]
  },
  {
   "cell_type": "code",
   "execution_count": 366,
   "metadata": {},
   "outputs": [
    {
     "name": "stdout",
     "output_type": "stream",
     "text": [
      "[532.8344308923023 110.13519200881208 190.4387188656474 255.173498588842\n",
      " 32.29818168886202 102.11324789199314 100.20093158051498\n",
      " 146.76587428112128 17.340705698754142 241.04289577163746\n",
      " 220.04053944513973 118.21234698057376 13.21183538351818 49.90294250665111\n",
      " -15.390246552135666]\n"
     ]
    }
   ],
   "source": [
    "print(theta)"
   ]
  },
  {
   "cell_type": "code",
   "execution_count": null,
   "metadata": {},
   "outputs": [],
   "source": []
  }
 ],
 "metadata": {
  "kernelspec": {
   "display_name": "Python 3",
   "language": "python",
   "name": "python3"
  },
  "language_info": {
   "codemirror_mode": {
    "name": "ipython",
    "version": 3
   },
   "file_extension": ".py",
   "mimetype": "text/x-python",
   "name": "python",
   "nbconvert_exporter": "python",
   "pygments_lexer": "ipython3",
   "version": "3.7.4"
  }
 },
 "nbformat": 4,
 "nbformat_minor": 2
}
